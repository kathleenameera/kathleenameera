{
 "cells": [
  {
   "cell_type": "markdown",
   "id": "2d3a0b38-4e80-4375-941a-b3e9f8751263",
   "metadata": {},
   "source": [
    "# Data Science Tools and Ecosystem\n",
    "\n"
   ]
  },
  {
   "cell_type": "markdown",
   "id": "b54a5ed9-66a8-4f80-90e6-0d46b096bb3b",
   "metadata": {
    "tags": []
   },
   "source": [
    "### In this notebook, Data Science Tools and Ecosystem are summarized."
   ]
  },
  {
   "cell_type": "markdown",
   "id": "b42d5ee9-5469-4da4-848c-882f86685a5e",
   "metadata": {},
   "source": [
    "#### Some of the popular languages that Data Scientists use are: \n",
    "\n",
    "1. Python\n",
    "2. R\n",
    "3. SQL\n",
    "4. Java\n",
    "5. Scala\n",
    "6. Julia\n",
    "7. C/C++\n",
    "8. JavaScript\n",
    "9. MATLAB, SAS"
   ]
  },
  {
   "cell_type": "markdown",
   "id": "75fefb0e-fd9b-4ea9-8d08-9acf0f4d3220",
   "metadata": {
    "tags": []
   },
   "source": [
    "#### Some of the commonly used libraries used by Data Scientists include:\n",
    "\n",
    "1. NumPy\n",
    "2. Panda\n",
    "3. Scikit-learn\n",
    "4. TensorFlow\n",
    "5. Matplotlib\n",
    "6. Seaborn\n",
    "7. Scrapy\n",
    "8. SQLAlchemy"
   ]
  },
  {
   "cell_type": "markdown",
   "id": "c1b662c4-c974-435d-8ad3-99104e39952e",
   "metadata": {},
   "source": [
    "| Data Science Tools |\n",
    "| ------------------- |\n",
    "| Apache Hadoop |\n",
    "| Jupyter Notebook |\n",
    "| GitHub |"
   ]
  },
  {
   "cell_type": "markdown",
   "id": "94afcb8e-61b1-4338-a208-2e5e50d1c1bb",
   "metadata": {
    "tags": []
   },
   "source": [
    "### Below are a few examples of evaluating arithmetic expressions in Python:"
   ]
  },
  {
   "cell_type": "markdown",
   "id": "68d270d9-5403-4e68-8f48-7fd6a1574955",
   "metadata": {},
   "source": [
    "###### This a simple arithmetic expression to mutiply then add integers:"
   ]
  },
  {
   "cell_type": "code",
   "execution_count": 11,
   "id": "5433a5d3-fcba-47a5-95fb-225ec1278dee",
   "metadata": {
    "tags": []
   },
   "outputs": [
    {
     "data": {
      "text/plain": [
       "17"
      ]
     },
     "execution_count": 11,
     "metadata": {},
     "output_type": "execute_result"
    }
   ],
   "source": [
    "(3*4)+5"
   ]
  },
  {
   "cell_type": "markdown",
   "id": "8fe2d53d-eed0-4a77-8000-e70e0065c5c1",
   "metadata": {},
   "source": [
    "##### This will convert 200 minutes to hours by diving by 60"
   ]
  },
  {
   "cell_type": "code",
   "execution_count": 1,
   "id": "beb72bab-b0d7-4ec7-b2da-4e349336681d",
   "metadata": {
    "tags": []
   },
   "outputs": [
    {
     "name": "stdout",
     "output_type": "stream",
     "text": [
      "0 days, 3.3333333333333335 hours, 0 mins. \n"
     ]
    }
   ],
   "source": [
    "days = 0\n",
    "hours = 0\n",
    "mins = 0\n",
    "\n",
    "time = 200\n",
    "#days = time / 1440\n",
    "leftover_minutes = time % 1440\n",
    "hours = leftover_minutes / 60\n",
    "#mins = time - (days*1440) - (hours*60)\n",
    "print(str(days) + \" days, \" + str(hours) + \" hours, \" + str(mins) +  \" mins. \")\n",
    "\n",
    "# Result: 3.3333333333333335 hours"
   ]
  },
  {
   "cell_type": "code",
   "execution_count": 12,
   "id": "7da99ae6-c2aa-4ee7-81be-35491443fb74",
   "metadata": {
    "tags": []
   },
   "outputs": [
    {
     "name": "stdout",
     "output_type": "stream",
     "text": [
      "200 minutes is equivalent to 3 hours and 20.00 minutes.\n"
     ]
    }
   ],
   "source": [
    "def minutes_to_hours(minutes):\n",
    "  \"\"\"\n",
    "  This function converts minutes to hours.\n",
    "\n",
    "  Args:\n",
    "      minutes (int): The number of minutes to convert.\n",
    "\n",
    "  Returns:\n",
    "      tuple: A tuple containing hours and remaining minutes (as decimals).\n",
    "  \"\"\"\n",
    "  hours = minutes // 60  # Integer division for whole hours\n",
    "  remaining_minutes = minutes % 60  # Modulo for remaining minutes (decimals)\n",
    "  return hours, remaining_minutes\n",
    "\n",
    "# Example usage\n",
    "minutes = 200\n",
    "hours, remaining_minutes = minutes_to_hours(minutes)\n",
    "\n",
    "print(f\"{minutes} minutes is equivalent to {hours} hours and {remaining_minutes:.2f} minutes.\")"
   ]
  },
  {
   "cell_type": "markdown",
   "id": "f2e737fb-f0fd-4efe-8c9f-e2590722e1d5",
   "metadata": {},
   "source": [
    "## **Objectives:**\n",
    "* Know data science tools by heart.\n",
    "* Be familiar with all the data science languages.\n",
    "* I am a beginner, so I want to try the basic tools and take it from there."
   ]
  },
  {
   "cell_type": "code",
   "execution_count": null,
   "id": "9916a6e8-f608-4a44-8a86-aa6549e85f5c",
   "metadata": {
    "tags": []
   },
   "outputs": [],
   "source": [
    "## Author\n",
    "Kathleen Ann Rivero"
   ]
  },
  {
   "cell_type": "markdown",
   "id": "0117c48c-a9a7-483f-ae11-2078967afc9b",
   "metadata": {},
   "source": []
  }
 ],
 "metadata": {
  "kernelspec": {
   "display_name": "Python",
   "language": "python",
   "name": "conda-env-python-py"
  },
  "language_info": {
   "codemirror_mode": {
    "name": "ipython",
    "version": 3
   },
   "file_extension": ".py",
   "mimetype": "text/x-python",
   "name": "python",
   "nbconvert_exporter": "python",
   "pygments_lexer": "ipython3",
   "version": "3.7.12"
  }
 },
 "nbformat": 4,
 "nbformat_minor": 5
}
